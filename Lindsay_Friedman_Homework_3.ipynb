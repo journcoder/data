{
 "cells": [
  {
   "cell_type": "markdown",
   "metadata": {},
   "source": [
    "#Homework assignment #3\n",
    "\n",
    "These problem sets focus on using the Beautiful Soup library to scrape web pages.\n",
    "\n",
    "##Problem Set #1: Basic scraping\n",
    "\n",
    "I've made a web page for you to scrape. It's available [here](http://static.decontextualize.com/widgets2015.html). The page concerns the catalog of a famous [widget](http://en.wikipedia.org/wiki/Widget) company. You'll be answering several questions about this web page. First off, in the cell below, write some code so that you end up with a variable called `html_str` that contains the HTML source code of the page."
   ]
  },
  {
   "cell_type": "code",
   "execution_count": 2,
   "metadata": {
    "collapsed": false
   },
   "outputs": [
    {
     "data": {
      "text/plain": [
       "'<!doctype html>\\n<html>\\n\\t<head>\\n\\t\\t<title>Fearless Widget Factory Catalog</title>\\n\\t\\t<style type=\"text/css\">\\n\\t\\t\\ttable.widgetlist {\\n\\t\\t\\t\\tborder-collapse: collapse;\\n\\t\\t\\t\\tborder: 1px #333 solid;\\n\\t\\t\\t\\twidth: 50%;\\n\\t\\t\\t}\\n\\t\\t\\ttable.widgetlist td {\\n\\t\\t\\t\\tborder: 1px #333 solid;\\n\\t\\t\\t\\tpadding: 5px;\\n\\t\\t\\t}\\n\\t\\t\\ttable.widgetlist thead {\\n\\t\\t\\t\\tbackground: #333;\\n\\t\\t\\t\\tcolor: white;\\n\\t\\t\\t}\\n\\t\\t</style>\\n\\t</head>\\n\\t<body>\\n\\n<h1>Fearless Widget Factory</h1>\\n\\n<p><i>Purveyor of fearless widgets since 1956</i></p>\\n\\n<h2>Widget Catalog</h2>\\n\\n<p>Please call <span class=\"tel\">212-555-9912</span> for latest prices.</p>\\n\\n<h3>Forensic Widgets</h3>\\n\\n<table class=\"widgetlist\">\\n\\t<thead>\\n\\t\\t<td>Part No.</td>\\n\\t\\t<td>Name</td>\\n\\t\\t<td>Price</td>\\n\\t\\t<td>Quantity in warehouse</td>\\n\\t</thead>\\n  <tr class=\"winfo\">\\n    <td class=\"partno\">C1-9476</td>\\n    <td class=\"wname\"><b>Skinner Widget</b></td>\\n    <td class=\"price\">$2.70</td>\\n    <td class=\"quantity\">512</td>\\n  </tr>\\n  <tr class=\"winfo\">\\n    <td class=\"partno\">JDJ-32/V</td>\\n    <td class=\"wname\"><b>Widget For Furtiveness</b></td>\\n    <td class=\"price\">$9.36</td>\\n    <td class=\"quantity\">967</td>\\n  </tr>\\n  <tr class=\"winfo\">\\n    <td class=\"partno\">YP4-325/J</td>\\n    <td class=\"wname\"><b>Widget For Strawman</b></td>\\n    <td class=\"price\">$5.17</td>\\n    <td class=\"quantity\">787</td>\\n  </tr>\\n</table>\\n\\n<h3>Mood widgets</h3>\\n\\n<table class=\"widgetlist\">\\n\\t<thead>\\n\\t\\t<td>Part No.</td>\\n\\t\\t<td>Name</td>\\n\\t\\t<td>Price</td>\\n\\t\\t<td>Quantity in warehouse</td>\\n\\t</thead>\\n  <tr class=\"winfo\">\\n    <td class=\"partno\">VK-486</td>\\n    <td class=\"wname\"><b>Manicurist Widget</b></td>\\n    <td class=\"price\">$8.97</td>\\n    <td class=\"quantity\">441</td>\\n  </tr>\\n  <tr class=\"winfo\">\\n    <td class=\"partno\">R4K-990</td>\\n    <td class=\"wname\"><b>Infinite Widget</b></td>\\n    <td class=\"price\">$11.73</td>\\n    <td class=\"quantity\">320</td>\\n  </tr>\\n</table>\\n\\n<h3>Hallowed widgets</h3>\\n\\n<table class=\"widgetlist\">\\n\\t<thead>\\n\\t\\t<td>Part No.</td>\\n\\t\\t<td>Name</td>\\n\\t\\t<td>Price</td>\\n\\t\\t<td>Quantity in warehouse</td>\\n\\t</thead>\\n  <tr class=\"winfo\">\\n    <td class=\"partno\">MZ-556/B</td>\\n    <td class=\"wname\"><b>Yellow-Tipped Widget</b></td>\\n    <td class=\"price\">$2.35</td>\\n    <td class=\"quantity\">948</td>\\n  </tr>\\n  <tr class=\"winfo\">\\n    <td class=\"partno\">QV-730</td>\\n    <td class=\"wname\"><b>Unshakable Widget</b></td>\\n    <td class=\"price\">$3.76</td>\\n    <td class=\"quantity\">59</td>\\n  </tr>\\n  <tr class=\"winfo\">\\n    <td class=\"partno\">T1-9731</td>\\n    <td class=\"wname\"><b>Self-Knowledge Widget</b></td>\\n    <td class=\"price\">$7.11</td>\\n    <td class=\"quantity\">790</td>\\n  </tr>\\n  <tr class=\"winfo\">\\n    <td class=\"partno\">5B-941/F</td>\\n    <td class=\"wname\"><b>Widget For Cinema</b></td>\\n    <td class=\"price\">$13.26</td>\\n    <td class=\"quantity\">919</td>\\n  </tr>\\n</table>\\n\\n<p>Thank you for considering the purchase of our widgets, and have a great day!</p>\\n\\n\\t</body>\\n</html>\\n'"
      ]
     },
     "execution_count": 2,
     "metadata": {},
     "output_type": "execute_result"
    }
   ],
   "source": [
    "import urllib\n",
    "html_str = urllib.urlopen(\"http://static.decontextualize.com/widgets2015.html\").read()\n",
    "html_str"
   ]
  },
  {
   "cell_type": "markdown",
   "metadata": {},
   "source": [
    "Now, in the cell below, use Beautiful Soup to write an expression that evaluates to the number of `<h3>` tags contained in `widgets.html`. I've added the Beautiful Soup import statement for you."
   ]
  },
  {
   "cell_type": "code",
   "execution_count": 3,
   "metadata": {
    "collapsed": false
   },
   "outputs": [
    {
     "data": {
      "text/plain": [
       "[u'Forensic Widgets', u'Mood widgets', u'Hallowed widgets']"
      ]
     },
     "execution_count": 3,
     "metadata": {},
     "output_type": "execute_result"
    }
   ],
   "source": [
    "from bs4 import BeautifulSoup\n",
    "document = BeautifulSoup(html_str)\n",
    "h3_tag = document.find_all('h3')\n",
    "len(h3_tag)\n",
    "[tag.string for tag in h3_tag]"
   ]
  },
  {
   "cell_type": "markdown",
   "metadata": {},
   "source": [
    "Now, in the cell below, write an expression or series of statements that displays the telephone number beneath the \"Widget Catalog\" header."
   ]
  },
  {
   "cell_type": "code",
   "execution_count": 4,
   "metadata": {
    "collapsed": false
   },
   "outputs": [
    {
     "data": {
      "text/plain": [
       "[u'212-555-9912']"
      ]
     },
     "execution_count": 4,
     "metadata": {},
     "output_type": "execute_result"
    }
   ],
   "source": [
    "#<span class=\"tel\">212-555-9912</span> \n",
    "checkup_tags = document.find_all('span', attrs={'class': 'tel'})\n",
    "[tag.string for tag in checkup_tags]\n"
   ]
  },
  {
   "cell_type": "markdown",
   "metadata": {},
   "source": [
    "In the cell below, use Beautiful Soup to write some code that creates a list of the names of all the widgets on the page. After your code has executed, `widget_names` should evaluate to a list that looks like this (though not necessarily in this order):\n",
    "\n",
    "    [u'Skinner Widget',\n",
    "     u'Widget For Furtiveness',\n",
    "     u'Widget For Strawman',\n",
    "     u'Manicurist Widget',\n",
    "     u'Infinite Widget',\n",
    "     u'Yellow-Tipped Widget',\n",
    "     u'Unshakable Widget',\n",
    "     u'Self-Knowledge Widget',\n",
    "     u'Widget For Cinema']"
   ]
  },
  {
   "cell_type": "code",
   "execution_count": 5,
   "metadata": {
    "collapsed": false
   },
   "outputs": [
    {
     "data": {
      "text/plain": [
       "[u'Skinner Widget',\n",
       " u'Widget For Furtiveness',\n",
       " u'Widget For Strawman',\n",
       " u'Manicurist Widget',\n",
       " u'Infinite Widget',\n",
       " u'Yellow-Tipped Widget',\n",
       " u'Unshakable Widget',\n",
       " u'Self-Knowledge Widget',\n",
       " u'Widget For Cinema']"
      ]
     },
     "execution_count": 5,
     "metadata": {},
     "output_type": "execute_result"
    }
   ],
   "source": [
    "widget_tags = document.find_all('td', attrs={'class': 'wname'})\n",
    "[widget_tag.string for widget_tag in widget_tags]\n"
   ]
  },
  {
   "cell_type": "markdown",
   "metadata": {},
   "source": [
    "##Problem set #2: Widget dictionaries\n",
    "\n",
    "For this problem set, we'll continue to use the HTML page from the previous problem set. In the cell below, I've made an empty list and assigned it to a variable called `widgets`. Write code that populates this list with dictionaries, one dictionary per widget in the source file. The keys of each dictionary should be `partno`, `widgetname`, `price`, and `quantity`, and the value for each of the keys should be the value for the corresponding column for each row. After executing the cell, your list should look something like this:\n",
    "\n",
    "    [{'partno': u'C1-9476',\n",
    "      'price': u'$2.70',\n",
    "      'quantity': u'512',\n",
    "      'wname': u'Skinner Widget'},\n",
    "     {'partno': u'JDJ-32/V',\n",
    "      'price': u'$9.36',\n",
    "      'quantity': u'967',\n",
    "      'wname': u'Widget For Furtiveness'},\n",
    "      ...several items omitted...\n",
    "     {'partno': u'5B-941/F',\n",
    "      'price': u'$13.26',\n",
    "      'quantity': u'919',\n",
    "      'wname': u'Widget For Cinema'}]\n",
    "\n",
    "And this expression:\n",
    "\n",
    "    widgets[5]['partno']\n",
    "    \n",
    "... should evaluate to:\n",
    "\n",
    "    u'MZ-556/B'\n",
    "    \n",
    "(Hint: This could get a little messy! Each column in the table might need to be treated a bit differently to get the appropriate strings out.)"
   ]
  },
  {
   "cell_type": "code",
   "execution_count": 6,
   "metadata": {
    "collapsed": false
   },
   "outputs": [
    {
     "data": {
      "text/plain": [
       "[{'name': u'Skinner Widget',\n",
       "  'partno': u'C1-9476',\n",
       "  'price': u'$2.70',\n",
       "  'quantity': u'512'},\n",
       " {'name': u'Widget For Furtiveness',\n",
       "  'partno': u'JDJ-32/V',\n",
       "  'price': u'$9.36',\n",
       "  'quantity': u'967'},\n",
       " {'name': u'Widget For Strawman',\n",
       "  'partno': u'YP4-325/J',\n",
       "  'price': u'$5.17',\n",
       "  'quantity': u'787'},\n",
       " {'name': u'Manicurist Widget',\n",
       "  'partno': u'VK-486',\n",
       "  'price': u'$8.97',\n",
       "  'quantity': u'441'},\n",
       " {'name': u'Infinite Widget',\n",
       "  'partno': u'R4K-990',\n",
       "  'price': u'$11.73',\n",
       "  'quantity': u'320'},\n",
       " {'name': u'Yellow-Tipped Widget',\n",
       "  'partno': u'MZ-556/B',\n",
       "  'price': u'$2.35',\n",
       "  'quantity': u'948'},\n",
       " {'name': u'Unshakable Widget',\n",
       "  'partno': u'QV-730',\n",
       "  'price': u'$3.76',\n",
       "  'quantity': u'59'},\n",
       " {'name': u'Self-Knowledge Widget',\n",
       "  'partno': u'T1-9731',\n",
       "  'price': u'$7.11',\n",
       "  'quantity': u'790'},\n",
       " {'name': u'Widget For Cinema',\n",
       "  'partno': u'5B-941/F',\n",
       "  'price': u'$13.26',\n",
       "  'quantity': u'919'}]"
      ]
     },
     "execution_count": 6,
     "metadata": {},
     "output_type": "execute_result"
    }
   ],
   "source": [
    "widgetlist = []\n",
    "for widget in document.find_all('tr'):\n",
    "    widget_dict = {}\n",
    "    \n",
    "    name_widget = widget.find('td', attrs={'class': 'wname'}).string\n",
    "    widget_dict['name'] = name_widget\n",
    "    \n",
    "    partno_widget = widget.find('td', attrs={'class': 'partno'}).string\n",
    "    widget_dict['partno'] = partno_widget\n",
    "    \n",
    "    price_widget = widget.find('td', attrs={'class': 'price'}).string\n",
    "    widget_dict['price'] = price_widget\n",
    "    \n",
    "    quantity_widget = widget.find('td', attrs={'class': 'quantity'}).string\n",
    "    widget_dict['quantity'] = quantity_widget\n",
    "    \n",
    "    widgetlist.append(widget_dict)\n",
    "widgetlist\n"
   ]
  },
  {
   "cell_type": "code",
   "execution_count": 7,
   "metadata": {
    "collapsed": false
   },
   "outputs": [
    {
     "data": {
      "text/plain": [
       "u'MZ-556/B'"
      ]
     },
     "execution_count": 7,
     "metadata": {},
     "output_type": "execute_result"
    }
   ],
   "source": [
    "widgetlist[5]['partno']"
   ]
  },
  {
   "cell_type": "markdown",
   "metadata": {},
   "source": [
    "In the cell below, duplicate your code from the previous question. Modify the code to ensure that the values for `price` and `quantity` in each dictionary are floating-point numbers and integers, respectively. I.e., after executing the cell, your code should display something like this:\n",
    "\n",
    "    [{'partno': 'C1-9476',\n",
    "      'price': 2.7,\n",
    "      'quantity': 512,\n",
    "      'widgetname': 'Skinner Widget'},\n",
    "     {'partno': 'JDJ-32/V',\n",
    "      'price': 9.36,\n",
    "      'quantity': 967,\n",
    "      'widgetname': 'Widget For Furtiveness'},\n",
    "     ... some items omitted ...\n",
    "     {'partno': '5B-941/F',\n",
    "      'price': 13.26,\n",
    "      'quantity': 919,\n",
    "      'widgetname': 'Widget For Cinema'}]\n",
    "\n",
    "(Hint: Use the `float()` and `int()` functions. You may need to use string slices to convert the `price` field to a floating-point number.)"
   ]
  },
  {
   "cell_type": "code",
   "execution_count": 27,
   "metadata": {
    "collapsed": false
   },
   "outputs": [
    {
     "name": "stdout",
     "output_type": "stream",
     "text": [
      "[{'partno': u'C1-9476', 'price': 2.7, 'name': u'Skinner Widget', 'quantity': 512}, {'partno': u'JDJ-32/V', 'price': 9.36, 'name': u'Widget For Furtiveness', 'quantity': 967}, {'partno': u'YP4-325/J', 'price': 5.17, 'name': u'Widget For Strawman', 'quantity': 787}, {'partno': u'VK-486', 'price': 8.97, 'name': u'Manicurist Widget', 'quantity': 441}, {'partno': u'R4K-990', 'price': 11.73, 'name': u'Infinite Widget', 'quantity': 320}, {'partno': u'MZ-556/B', 'price': 2.35, 'name': u'Yellow-Tipped Widget', 'quantity': 948}, {'partno': u'QV-730', 'price': 3.76, 'name': u'Unshakable Widget', 'quantity': 59}, {'partno': u'T1-9731', 'price': 7.11, 'name': u'Self-Knowledge Widget', 'quantity': 790}, {'partno': u'5B-941/F', 'price': 13.26, 'name': u'Widget For Cinema', 'quantity': 919}]\n"
     ]
    }
   ],
   "source": [
    "\n",
    "html_str = urllib.urlopen(\"http://static.decontextualize.com/widgets2015.html\").read()\n",
    "document = BeautifulSoup(html_str)\n",
    "\n",
    "widgetlist2 = []\n",
    "for widget in document.find_all('tr'):\n",
    "    widget_dict = {}\n",
    "    \n",
    "    name_widget = widget.find('td', attrs={'class': 'wname'}).string\n",
    "    widget_dict['name'] = name_widget\n",
    "    \n",
    "    partno_widget = widget.find('td', attrs={'class': 'partno'}).string\n",
    "    widget_dict['partno'] = partno_widget\n",
    "    \n",
    "    price_widget = widget.find('td', attrs={'class': 'price'}).string\n",
    "    price_widget_num = float(price_widget[1:])\n",
    "    widget_dict['price'] = price_widget_num\n",
    "    \n",
    "    quantity_widget = widget.find('td', attrs={'class': 'quantity'}).string\n",
    "    widget_dict['quantity'] = int(quantity_widget)\n",
    "    \n",
    "    widgetlist2.append(widget_dict)\n",
    "print widgetlist2\n"
   ]
  },
  {
   "cell_type": "markdown",
   "metadata": {},
   "source": [
    "Great! I hope you're having fun. In the cell below, write an expression that uses the `widgets` list created in the cell above to calculate the total number of widgets that the factory has in its warehouse.\n",
    "\n",
    "Expected output: `5743`"
   ]
  },
  {
   "cell_type": "code",
   "execution_count": 20,
   "metadata": {
    "collapsed": false
   },
   "outputs": [
    {
     "data": {
      "text/plain": [
       "5743"
      ]
     },
     "execution_count": 20,
     "metadata": {},
     "output_type": "execute_result"
    }
   ],
   "source": [
    "quantitylist = []\n",
    "for i in range(9):\n",
    "    numbs = (widgetlist2[i]['quantity'])\n",
    "    quantitylist.append(numbs)\n",
    "sum(quantitylist)\n"
   ]
  },
  {
   "cell_type": "markdown",
   "metadata": {},
   "source": [
    "In the cell below, write an expression (or series of expressions) that evaluates to a list the names of widgets containing only those widgets whose price is above $9.30.\n",
    "\n",
    "Expected output: `[u'Widget For Furtiveness', u'Infinite Widget', u'Widget For Cinema']`"
   ]
  },
  {
   "cell_type": "code",
   "execution_count": 287,
   "metadata": {
    "collapsed": false
   },
   "outputs": [
    {
     "name": "stdout",
     "output_type": "stream",
     "text": [
      "[u'Widget For Furtiveness', u'Infinite Widget', u'Widget For Cinema']\n"
     ]
    }
   ],
   "source": [
    "morelist = []\n",
    "for i in range(9):\n",
    "    if widgetlist2[i]['price'] > 9.3: \n",
    "        morelist.append(widgetlist2[i]['name'])\n",
    "print morelist"
   ]
  },
  {
   "cell_type": "markdown",
   "metadata": {},
   "source": [
    "##Problem set #3: Sibling rivalries\n",
    "\n",
    "In the following problem set, you will yet again be working with the data in `widgets.html`. In order to accomplish the tasks in this problem set, you'll need to learn about Beautiful Soup's `.find_next_sibling()` method. Here's some information about that method, cribbed from the notes:\n",
    "\n",
    "Often, the tags we're looking for don't have a distinguishing characteristic, like a class attribute, that allows us to find them using `.find()` and `.find_all()`, and the tags also aren't in a parent-child relationship. This can be tricky! For example, take the following HTML snippet, (which I've assigned to a string called `example_html`):"
   ]
  },
  {
   "cell_type": "code",
   "execution_count": null,
   "metadata": {
    "collapsed": false
   },
   "outputs": [],
   "source": []
  },
  {
   "cell_type": "markdown",
   "metadata": {},
   "source": [
    "If our task was to create a dictionary that maps the name of the cheese to the description that follows in the `<p>` tag directly afterward, we'd be out of luck. Fortunately, Beautiful Soup has a `.find_next_sibling()` method, which allows us to search for the next tag that is a sibling of the tag you're calling it on (i.e., the two tags share a parent), that also matches particular criteria. So, for example, to accomplish the task outlined above:"
   ]
  },
  {
   "cell_type": "code",
   "execution_count": 74,
   "metadata": {
    "collapsed": false
   },
   "outputs": [],
   "source": [
    "# example_doc = BeautifulSoup(example_html)\n",
    "# cheese_dict = {}\n",
    "# for h2_tag in example_doc.find_all('h2'):\n",
    "#     cheese_name = h2_tag.string\n",
    "#     cheese_desc_tag = h2_tag.find_next_sibling('p')\n",
    "#     cheese_dict[cheese_name] = cheese_desc_tag.string\n",
    "\n",
    "# cheese_name"
   ]
  },
  {
   "cell_type": "markdown",
   "metadata": {},
   "source": [
    "With that knowledge in mind, let's go back to our widgets. In the cell below, write code that uses Beautiful Soup, and in particular the `.find_next_sibling()` method, to find out how many widgets are in the table *just beneath* the header \"Hallowed Widgets.\" (You can tell by looking at the page that there are four such widgets. But this is a programming class, so we have to write a program to do it.)"
   ]
  },
  {
   "cell_type": "code",
   "execution_count": 285,
   "metadata": {
    "collapsed": false
   },
   "outputs": [
    {
     "data": {
      "text/plain": [
       "4"
      ]
     },
     "execution_count": 285,
     "metadata": {},
     "output_type": "execute_result"
    }
   ],
   "source": [
    "import urllib\n",
    "html_str = urllib.urlopen(\"http://static.decontextualize.com/widgets2015.html\").read()\n",
    "document = BeautifulSoup(html_str)\n",
    "widget = []\n",
    "\n",
    "category_counts = {}\n",
    "for h3_tag in document.find_all('h3'):\n",
    "    h3_string = h3_tag.string\n",
    "    if h3_string == 'Hallowed Widgets':\n",
    "        tabletag = h3_tag.find_next_sibling('table')\n",
    "        trtags = tabletag.find_all('tr')\n",
    "        count = len(trtags)\n",
    "count"
   ]
  },
  {
   "cell_type": "markdown",
   "metadata": {},
   "source": [
    "Okay, now, the final task. If you can accomplish this, you are truly an expert web scraper. I'll have little web scraper certificates made up and I'll give you one, if you manage to do this thing. And I know you can do it!\n",
    "\n",
    "In the cell below, I've created a variable `category_counts` and assigned to it an empty dictionary. Write code to populate this dictionary so that its keys are \"categories\" of widgets (e.g., the contents of the `<h3>` tags on the page: \"Forensic Widgets\", \"Mood widgets\", \"Hallowed Widgets\") and the value for each key is the number of widgets that occur in that category. I.e., after your code has been executed, the dictionary `category_counts` should look like this:\n",
    "\n",
    "    {u'Forensic Widgets': 3, u'Hallowed widgets': 4, u'Mood widgets': 2}\n"
   ]
  },
  {
   "cell_type": "code",
   "execution_count": 282,
   "metadata": {
    "collapsed": false,
    "scrolled": true
   },
   "outputs": [
    {
     "data": {
      "text/plain": [
       "{u'Forensic Widgets': 3, u'Hallowed widgets': 4, u'Mood widgets': 2}"
      ]
     },
     "execution_count": 282,
     "metadata": {},
     "output_type": "execute_result"
    }
   ],
   "source": [
    "import urllib\n",
    "html_str = urllib.urlopen(\"http://static.decontextualize.com/widgets2015.html\").read()\n",
    "document = BeautifulSoup(html_str)\n",
    "\n",
    "category_counts = {}\n",
    "for h3_tag in document.find_all('h3'):\n",
    "    h3_string = h3_tag.string\n",
    "    tabletag = h3_tag.find_next_sibling('table')\n",
    "    trtags = tabletag.find_all('tr')\n",
    "    count = len(trtags)\n",
    "    category_counts[h3_string] = count\n",
    "category_counts\n",
    "\n",
    "    "
   ]
  },
  {
   "cell_type": "markdown",
   "metadata": {},
   "source": [
    "Congratulations! You're done."
   ]
  }
 ],
 "metadata": {
  "kernelspec": {
   "display_name": "Python 2",
   "language": "python",
   "name": "python2"
  },
  "language_info": {
   "codemirror_mode": {
    "name": "ipython",
    "version": 2
   },
   "file_extension": ".py",
   "mimetype": "text/x-python",
   "name": "python",
   "nbconvert_exporter": "python",
   "pygments_lexer": "ipython2",
   "version": "2.7.10"
  }
 },
 "nbformat": 4,
 "nbformat_minor": 0
}
