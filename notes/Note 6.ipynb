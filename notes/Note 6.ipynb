{
 "cells": [
  {
   "cell_type": "markdown",
   "metadata": {},
   "source": [
    "# DATABASES MONDAY AUG. 3\n",
    "\n",
    "\n",
    "##Writing SQL queries in python\n",
    "\n",
    "\"psycopg2\"\n",
    "\n",
    "\n",
    "\n"
   ]
  },
  {
   "cell_type": "code",
   "execution_count": null,
   "metadata": {
    "collapsed": false
   },
   "outputs": [
    {
     "name": "stdout",
     "output_type": "stream",
     "text": [
      "Fetching package metadata: ....\n",
      "Solving package specifications: .\n",
      "Package plan for installation in environment /Applications/anaconda:\n",
      "\n",
      "The following packages will be downloaded:\n",
      "\n",
      "    package                    |            build\n",
      "    ---------------------------|-----------------\n",
      "    yaml-0.1.6                 |                0          79 KB\n",
      "    conda-env-2.3.0            |           py27_0          23 KB\n",
      "    psycopg2-2.6               |           py27_1         280 KB\n",
      "    pyyaml-3.11                |           py27_1         142 KB\n",
      "    setuptools-18.0.1          |           py27_0         341 KB\n",
      "    conda-3.15.1               |           py27_0         171 KB\n",
      "    pip-7.1.0                  |           py27_0         1.4 MB\n",
      "    ------------------------------------------------------------\n",
      "                                           Total:         2.4 MB\n",
      "\n",
      "The following NEW packages will be INSTALLED:\n",
      "\n",
      "    psycopg2:   2.6-py27_1   \n",
      "\n",
      "The following packages will be UPDATED:\n",
      "\n",
      "    conda:      3.14.0-py27_0 --> 3.15.1-py27_0\n",
      "    conda-env:  2.2.1-py27_0  --> 2.3.0-py27_0 \n",
      "    pip:        7.0.3-py27_0  --> 7.1.0-py27_0 \n",
      "    pyyaml:     3.11-py27_0   --> 3.11-py27_1  \n",
      "    setuptools: 17.1.1-py27_0 --> 18.0.1-py27_0\n",
      "    yaml:       0.1.4-1       --> 0.1.6-0      \n",
      "\n",
      "Proceed ([y]/n)? "
     ]
    }
   ],
   "source": [
    "!conda install psycopg2\n",
    "import psycopg2\n"
   ]
  },
  {
   "cell_type": "code",
   "execution_count": null,
   "metadata": {
    "collapsed": true
   },
   "outputs": [],
   "source": [
    "y"
   ]
  },
  {
   "cell_type": "code",
   "execution_count": null,
   "metadata": {
    "collapsed": true
   },
   "outputs": [],
   "source": [
    "import pg8000\n"
   ]
  },
  {
   "cell_type": "code",
   "execution_count": null,
   "metadata": {
    "collapsed": true
   },
   "outputs": [],
   "source": [
    "import pg8000 as psyco2 "
   ]
  },
  {
   "cell_type": "code",
   "execution_count": null,
   "metadata": {
    "collapsed": true
   },
   "outputs": [],
   "source": [
    "conn = psycopg2.connect(database = 'mandial')"
   ]
  },
  {
   "cell_type": "code",
   "execution_count": null,
   "metadata": {
    "collapsed": true
   },
   "outputs": [],
   "source": [
    "cursor = conn.cursor()"
   ]
  },
  {
   "cell_type": "code",
   "execution_count": null,
   "metadata": {
    "collapsed": true
   },
   "outputs": [],
   "source": [
    "cursor.execute('SELECT name, population FROM city')"
   ]
  },
  {
   "cell_type": "code",
   "execution_count": null,
   "metadata": {
    "collapsed": true
   },
   "outputs": [],
   "source": [
    "print cursor.fetchone()"
   ]
  },
  {
   "cell_type": "code",
   "execution_count": null,
   "metadata": {
    "collapsed": true
   },
   "outputs": [],
   "source": []
  }
 ],
 "metadata": {
  "kernelspec": {
   "display_name": "Python 2",
   "language": "python",
   "name": "python2"
  },
  "language_info": {
   "codemirror_mode": {
    "name": "ipython",
    "version": 2
   },
   "file_extension": ".py",
   "mimetype": "text/x-python",
   "name": "python",
   "nbconvert_exporter": "python",
   "pygments_lexer": "ipython2",
   "version": "2.7.10"
  }
 },
 "nbformat": 4,
 "nbformat_minor": 0
}
