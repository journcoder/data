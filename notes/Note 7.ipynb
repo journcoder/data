{
 "cells": [
  {
   "cell_type": "markdown",
   "metadata": {},
   "source": [
    "#DATABASES WEDNESDAY AUGUST 5 \n",
    "\n",
    "##COVERING:\n",
    "\n",
    "- Making structure: number munging\n",
    "- pandas (and a bit of numpy)\n",
    "- csv, excel importing\n",
    "- tables, basic matrix and vector operations\n",
    "- basic statistical summarization\n",
    "- boolean indexing\n",
    "- map, apply, groupby\n",
    "- simple graphing\n",
    "- Readings\n",
    "\n",
    "##READINGS:\n",
    "\n",
    "- Wickham, Hadley, Deborah Swayne, and David Poole. “Bay Area Blues: The Effect of the Housing Crisis.” \n",
    "- Beautiful Data: The Stories Behind Elegant Data Solutions, 2009, 303–22. (As you read this: what are all of the different sources of structured data that they draw upon? What formats?)\n",
    "- Edwards, Paul. A Vast Machine: Computer Models, Climate Data, and the Politics of Global Warming. Cambridge: MIT Press, 2010, ch. 10: “Making Data Global”\n",
    "\n",
    "##Homework\n",
    "\n",
    "Assignment #4, due August 10th\n"
   ]
  },
  {
   "cell_type": "code",
   "execution_count": 57,
   "metadata": {
    "collapsed": false
   },
   "outputs": [
    {
     "data": {
      "text/plain": [
       "<connection object at 0x104ab13e0; dsn: 'dbname=mondial', closed: 0>"
      ]
     },
     "execution_count": 57,
     "metadata": {},
     "output_type": "execute_result"
    }
   ],
   "source": [
    "import psycopg2\n",
    "connection = psycopg2.connect(database='mondial')\n",
    "connection\n"
   ]
  },
  {
   "cell_type": "code",
   "execution_count": 58,
   "metadata": {
    "collapsed": false
   },
   "outputs": [
    {
     "data": {
      "text/plain": [
       "<cursor object at 0x104a02908; closed: 0>"
      ]
     },
     "execution_count": 58,
     "metadata": {},
     "output_type": "execute_result"
    }
   ],
   "source": [
    "cursor = connection.cursor()\n",
    "cursor #can call execute method (cursor.execute(...) ... Inside you put a SQL method as a string. "
   ]
  },
  {
   "cell_type": "markdown",
   "metadata": {},
   "source": [
    "With the cursor, you can call execute method (cursor.execute(...) ... Inside you put a SQL method as a string. \n",
    "OR you can use the fetchone method (cursor.fetchone() ... "
   ]
  },
  {
   "cell_type": "code",
   "execution_count": 59,
   "metadata": {
    "collapsed": false
   },
   "outputs": [],
   "source": [
    "# cursor.execute(\"SELECT name, length FROM river WHERE length > 4000\")"
   ]
  },
  {
   "cell_type": "code",
   "execution_count": 60,
   "metadata": {
    "collapsed": false
   },
   "outputs": [],
   "source": [
    "# connection.rollback()"
   ]
  },
  {
   "cell_type": "code",
   "execution_count": 61,
   "metadata": {
    "collapsed": false
   },
   "outputs": [],
   "source": [
    "# cursor.fetchone()"
   ]
  },
  {
   "cell_type": "code",
   "execution_count": 62,
   "metadata": {
    "collapsed": false
   },
   "outputs": [],
   "source": [
    "# for row in cursor:\n",
    "#     print row[0], row[1]"
   ]
  },
  {
   "cell_type": "code",
   "execution_count": 63,
   "metadata": {
    "collapsed": false
   },
   "outputs": [],
   "source": [
    "# [row[0] for row in cursor]"
   ]
  },
  {
   "cell_type": "code",
   "execution_count": 64,
   "metadata": {
    "collapsed": true
   },
   "outputs": [],
   "source": [
    "cursor.execute(\"SELECT name, population FROM city WHERE country ='US' AND population > 1000000\")"
   ]
  },
  {
   "cell_type": "code",
   "execution_count": 66,
   "metadata": {
    "collapsed": false
   },
   "outputs": [],
   "source": [
    "for row in cursor:\n",
    "    print \"The city of\", row[0], \"has\", row[1], \"people in it.\""
   ]
  },
  {
   "cell_type": "markdown",
   "metadata": {},
   "source": [
    "#SWITCHED TO PANDAS-SKELETON"
   ]
  },
  {
   "cell_type": "code",
   "execution_count": null,
   "metadata": {
    "collapsed": true
   },
   "outputs": [],
   "source": []
  }
 ],
 "metadata": {
  "kernelspec": {
   "display_name": "Python 2",
   "language": "python",
   "name": "python2"
  },
  "language_info": {
   "codemirror_mode": {
    "name": "ipython",
    "version": 2
   },
   "file_extension": ".py",
   "mimetype": "text/x-python",
   "name": "python",
   "nbconvert_exporter": "python",
   "pygments_lexer": "ipython2",
   "version": "2.7.10"
  }
 },
 "nbformat": 4,
 "nbformat_minor": 0
}
