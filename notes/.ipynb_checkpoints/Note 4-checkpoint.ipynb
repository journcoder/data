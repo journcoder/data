{
 "cells": [
  {
   "cell_type": "markdown",
   "metadata": {},
   "source": [
    "#Week 3: July 27th and 29th\n",
    "\n",
    "- Reading discussion\n",
    "\n",
    "- Scraping HTML with Beautiful Soup. Notes\n",
    "\n",
    "- Introduction to SQL\n",
    "\n",
    "**Reading (for discussion July 27th):**\n",
    "\n",
    "    + Fortune, Stephen. A Brief History of Databases.\n",
    "    + Friedman, Batya, and Helen Nissenbaum. “Bias in Computer Systems.” ACM Transactions on Information Systems \n",
    "    (TOIS) 14, no. 3 (1996): 330–47. PDF.\n",
    "    + Bus Subsidies in Argentina, La Nacion\n",
    "    + VozData: collaborating to free data from PDFs\n",
    "    \n",
    "**Homework:**\n",
    " - *Assignment #3 (TBD), due August 3rd*"
   ]
  },
  {
   "cell_type": "markdown",
   "metadata": {},
   "source": [
    "#NOTES\n",
    "\n",
    "**READING:** http://avant.org/media/history-of-databases\n",
    "    \n",
    "    What are the biases within your own computer? \n",
    "    WHy scrape docs and what's the purpose? .... \n",
    "    \n",
    "##USING BEAUTIFUL SOUP AND SCRAPING FOR DATA"
   ]
  },
  {
   "cell_type": "code",
   "execution_count": 6,
   "metadata": {
    "collapsed": true
   },
   "outputs": [],
   "source": [
    "import urllib\n",
    "url = 'http://static.decontextualize.com/kittens.html'\n",
    "html_str = urllib.urlopen(url).read()\n",
    "\n"
   ]
  },
  {
   "cell_type": "code",
   "execution_count": 7,
   "metadata": {
    "collapsed": false
   },
   "outputs": [
    {
     "name": "stdout",
     "output_type": "stream",
     "text": [
      "<class 'bs4.BeautifulSoup'>\n"
     ]
    }
   ],
   "source": [
    "from bs4 import BeautifulSoup\n",
    "document = BeautifulSoup(html_str)\n",
    "print type(document)"
   ]
  },
  {
   "cell_type": "code",
   "execution_count": 8,
   "metadata": {
    "collapsed": false
   },
   "outputs": [
    {
     "name": "stdout",
     "output_type": "stream",
     "text": [
      "<class 'bs4.element.Tag'>\n"
     ]
    }
   ],
   "source": [
    "h1_tag = document.find('h1')\n",
    "print type(h1_tag)"
   ]
  },
  {
   "cell_type": "code",
   "execution_count": 9,
   "metadata": {
    "collapsed": false
   },
   "outputs": [
    {
     "data": {
      "text/plain": [
       "u'Kittens and the TV Shows They Love'"
      ]
     },
     "execution_count": 9,
     "metadata": {},
     "output_type": "execute_result"
    }
   ],
   "source": [
    "h1_tag.string"
   ]
  },
  {
   "cell_type": "code",
   "execution_count": 12,
   "metadata": {
    "collapsed": false
   },
   "outputs": [
    {
     "data": {
      "text/plain": [
       "<bound method Tag.get_text of <h1>Kittens and the TV Shows They Love</h1>>"
      ]
     },
     "execution_count": 12,
     "metadata": {},
     "output_type": "execute_result"
    }
   ],
   "source": [
    "h1_tag.getText"
   ]
  },
  {
   "cell_type": "code",
   "execution_count": 13,
   "metadata": {
    "collapsed": false
   },
   "outputs": [
    {
     "data": {
      "text/plain": [
       "'http://placekitten.com/120/120'"
      ]
     },
     "execution_count": 13,
     "metadata": {},
     "output_type": "execute_result"
    }
   ],
   "source": [
    "img_tag = document.find('img')\n",
    "img_tag['src']"
   ]
  },
  {
   "cell_type": "code",
   "execution_count": 18,
   "metadata": {
    "collapsed": false
   },
   "outputs": [
    {
     "name": "stdout",
     "output_type": "stream",
     "text": [
      "http://placekitten.com/120/120\n",
      "http://placekitten.com/110/110\n"
     ]
    }
   ],
   "source": [
    "img_tags = document.find_all('img')\n",
    "for tag in img_tags:\n",
    "    print tag['src']"
   ]
  },
  {
   "cell_type": "code",
   "execution_count": 19,
   "metadata": {
    "collapsed": false
   },
   "outputs": [
    {
     "name": "stdout",
     "output_type": "stream",
     "text": [
      "Fluffy\n",
      "Monsieur Whiskeurs\n"
     ]
    }
   ],
   "source": [
    "h2_tags = document.find_all('h2')\n",
    "for tag in h2_tags:\n",
    "    print tag.string"
   ]
  },
  {
   "cell_type": "code",
   "execution_count": 22,
   "metadata": {
    "collapsed": false
   },
   "outputs": [
    {
     "name": "stdout",
     "output_type": "stream",
     "text": [
      "2014-01-17\n",
      "2013-11-02\n"
     ]
    }
   ],
   "source": [
    "checkup_tags = document.find_all(\"span\", attrs={'class': 'lastcheckup'})\n",
    "for tag in checkup_tags:\n",
    "    print tag.string"
   ]
  },
  {
   "cell_type": "code",
   "execution_count": 24,
   "metadata": {
    "collapsed": false
   },
   "outputs": [
    {
     "name": "stdout",
     "output_type": "stream",
     "text": [
      "Deep Space Nine\n",
      "Mr. Belvedere\n",
      "The X-Files\n",
      "Fresh Prince\n"
     ]
    }
   ],
   "source": [
    "a_tags = document.find_all('a')\n",
    "for tag in a_tags:\n",
    "    print tag.string"
   ]
  },
  {
   "cell_type": "code",
   "execution_count": 34,
   "metadata": {
    "collapsed": false
   },
   "outputs": [
    {
     "data": {
      "text/plain": [
       "[{'name': u'Fluffy', 'shows': [u'Deep Space Nine', u'Mr. Belvedere']},\n",
       " {'name': u'Monsieur Whiskeurs', 'shows': [u'The X-Files', u'Fresh Prince']}]"
      ]
     },
     "execution_count": 34,
     "metadata": {},
     "output_type": "execute_result"
    }
   ],
   "source": [
    "kittens = []\n",
    "kitten_tags = document.find_all('div', attrs={'class': 'kitten'})\n",
    "for tag in kitten_tags:\n",
    "    tvshow_tags = tag.find_all('a')\n",
    "    #find h2 tag that is a child if this tag\n",
    "    h2_tag = tag.find('h2')\n",
    "    kitten_name = h2_tag.string\n",
    "    tvshow_tags = tag.find_all('a')\n",
    "    kitten_shows = [tvshow.string for tvshow in tvshow_tags]\n",
    "    kitten_info = {'name': kitten_name, 'shows': kitten_shows}\n",
    "    kittens.append(kitten_info)\n",
    "kittens\n",
    "\n",
    "                                               "
   ]
  },
  {
   "cell_type": "markdown",
   "metadata": {},
   "source": [
    "##Finding Siblings? "
   ]
  },
  {
   "cell_type": "code",
   "execution_count": 60,
   "metadata": {
    "collapsed": false
   },
   "outputs": [],
   "source": [
    "cheese_html = \"\"\" \n",
    "<h2>Camembert</h2>\n",
    "<p> A soft cheest made in the Camember region.</p>\n",
    "\n",
    "<h2>Cheddar</h2>\n",
    "<p>A yellow cheese made in the cheddar region...?</p>\n",
    "\n",
    "\"\"\"\n",
    "cheese_dct = {'Camembert': 'A soft cheese made in the Camembert region.',\n",
    "                'Cheddar':'A yellow cheese made in the cheddar region...?'}"
   ]
  },
  {
   "cell_type": "code",
   "execution_count": 61,
   "metadata": {
    "collapsed": false
   },
   "outputs": [
    {
     "data": {
      "text/plain": [
       "[u'Camembert', u'Cheddar']"
      ]
     },
     "execution_count": 61,
     "metadata": {},
     "output_type": "execute_result"
    }
   ],
   "source": [
    "document = BeautifulSoup (cheese_html)\n",
    "h2_tags = document.find_all('h2')\n",
    "[tag.string for tag in h2_tags]"
   ]
  },
  {
   "cell_type": "code",
   "execution_count": 62,
   "metadata": {
    "collapsed": false
   },
   "outputs": [
    {
     "data": {
      "text/plain": [
       "{u'Camembert': u' A soft cheest made in the Camember region.',\n",
       " u'Cheddar': u'A yellow cheese made in the cheddar region...?'}"
      ]
     },
     "execution_count": 62,
     "metadata": {},
     "output_type": "execute_result"
    }
   ],
   "source": [
    "cheese_dict = {}\n",
    "for tag in h2_tags:\n",
    "    cheese_name = tag.string\n",
    "    p_tag = tag.find_next_sibling('p')\n",
    "    cheese_desc = p_tag.string\n",
    "    cheese_dict[cheese_name] = cheese_desc\n",
    "cheese_dict"
   ]
  },
  {
   "cell_type": "code",
   "execution_count": null,
   "metadata": {
    "collapsed": true
   },
   "outputs": [],
   "source": []
  }
 ],
 "metadata": {
  "kernelspec": {
   "display_name": "Python 2",
   "language": "python",
   "name": "python2"
  },
  "language_info": {
   "codemirror_mode": {
    "name": "ipython",
    "version": 2
   },
   "file_extension": ".py",
   "mimetype": "text/x-python",
   "name": "python",
   "nbconvert_exporter": "python",
   "pygments_lexer": "ipython2",
   "version": "2.7.10"
  }
 },
 "nbformat": 4,
 "nbformat_minor": 0
}
